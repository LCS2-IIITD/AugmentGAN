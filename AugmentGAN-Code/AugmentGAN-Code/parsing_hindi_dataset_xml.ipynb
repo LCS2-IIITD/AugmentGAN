{
 "cells": [
  {
   "cell_type": "code",
   "execution_count": 1,
   "metadata": {},
   "outputs": [
    {
     "name": "stderr",
     "output_type": "stream",
     "text": [
      "[nltk_data] Downloading package indian to\n",
      "[nltk_data]     /home/suraj18025/nltk_data...\n",
      "[nltk_data]   Package indian is already up-to-date!\n"
     ]
    }
   ],
   "source": [
    "\n",
    "import xmltodict\n",
    "import pprint\n",
    "import json\n",
    "# from polyglot.text import Text\n",
    "import pickle\n",
    "import nltk\n",
    "nltk.download('indian')\n",
    "from nltk.tag import tnt\n",
    "from nltk.corpus import indian\n",
    "from googletrans import Translator\n",
    "import re\n",
    "import time\n",
    "translator = Translator()"
   ]
  },
  {
   "cell_type": "code",
   "execution_count": 4,
   "metadata": {},
   "outputs": [],
   "source": [
    "data = pickle.load(open(\"train_label_bengali.pkl\",\"rb\"))"
   ]
  },
  {
   "cell_type": "code",
   "execution_count": 60,
   "metadata": {},
   "outputs": [],
   "source": [
    "def hindi_tagger(text,tnt_pos_tagger):\n",
    "    tagged_words = (tnt_pos_tagger.tag(nltk.word_tokenize(text)))\n",
    "    tagged_main = []\n",
    "    for i in tagged_words:\n",
    "        if i[1] == \"Unk\":\n",
    "            print(i[0])\n",
    "            x = translator.translate(i[0])\n",
    "            time.sleep(1)\n",
    "            str1 = str(x)\n",
    "            tag_new = nltk.pos_tag([str1.split(\",\")[2:3][0].split(\"=\")[1]])[0][1]\n",
    "            tagged_main.append((i[0],tag_new))\n",
    "        else:\n",
    "            tagged_main.append(i)\n",
    "    return tagged_main\n"
   ]
  },
  {
   "cell_type": "code",
   "execution_count": null,
   "metadata": {},
   "outputs": [],
   "source": []
  },
  {
   "cell_type": "code",
   "execution_count": 61,
   "metadata": {},
   "outputs": [],
   "source": [
    "def model_train(model):\n",
    "    train_data = indian.tagged_sents(model)\n",
    "    tnt_pos_tagger = tnt.TnT()\n",
    "    tnt_pos_tagger.train(train_data)\n",
    "    return tnt_pos_tagger"
   ]
  },
  {
   "cell_type": "code",
   "execution_count": 62,
   "metadata": {},
   "outputs": [],
   "source": [
    "tnt_pos_tagger = model_train(\"hindi.pos\")"
   ]
  },
  {
   "cell_type": "code",
   "execution_count": null,
   "metadata": {},
   "outputs": [],
   "source": []
  },
  {
   "cell_type": "code",
   "execution_count": 63,
   "metadata": {},
   "outputs": [],
   "source": [
    "with open('./MovieReviewSentimentDataset-SentenceClassification.xml') as fd:\n",
    "        doc = xmltodict.parse(fd.read())\n",
    "dict1 = json.dumps(doc)\n",
    "res = json.loads(dict1) \n",
    "data  = res[\"sentences\"][\"sentence\"]\n",
    "label_data = []\n",
    "text_data = []\n",
    "for i in range(len(data)):\n",
    "    try:\n",
    "        \n",
    "        label_data.append(data[i][\"@polarity\"])\n",
    "        text_data.append(data[i][\"text\"])\n",
    "    except:\n",
    "        pass"
   ]
  },
  {
   "cell_type": "code",
   "execution_count": 64,
   "metadata": {},
   "outputs": [],
   "source": [
    "f = open(\"hindi_sentiment.txt\",\"r\")\n",
    "g = f.read().split(\"\\n\")"
   ]
  },
  {
   "cell_type": "code",
   "execution_count": 65,
   "metadata": {},
   "outputs": [],
   "source": [
    "h = []\n",
    "for i in g:\n",
    "    h.append(i.split(\" \"))"
   ]
  },
  {
   "cell_type": "code",
   "execution_count": 56,
   "metadata": {},
   "outputs": [],
   "source": [
    "tokenlized = []\n",
    "file = \"hindi_sentiment.txt\"\n",
    "with open(file,\"r\") as raw:\n",
    "    for text in raw:\n",
    "        text = nltk.word_tokenize(text.lower())\n",
    "        tokenlized.append(text)"
   ]
  },
  {
   "cell_type": "code",
   "execution_count": 67,
   "metadata": {},
   "outputs": [],
   "source": [
    "dict = {}\n",
    "for i in label_data:\n",
    "    try:\n",
    "        dict[i] +=1\n",
    "    except:\n",
    "        dict[i] = 1"
   ]
  },
  {
   "cell_type": "code",
   "execution_count": 68,
   "metadata": {},
   "outputs": [
    {
     "data": {
      "text/plain": [
       "{'conflict': 200,\n",
       " 'neutral': 598,\n",
       " 'positive': 823,\n",
       " 'negative': 530,\n",
       " 'cpn': 1,\n",
       " '': 1}"
      ]
     },
     "execution_count": 68,
     "metadata": {},
     "output_type": "execute_result"
    }
   ],
   "source": [
    "dict"
   ]
  },
  {
   "cell_type": "code",
   "execution_count": 70,
   "metadata": {},
   "outputs": [],
   "source": [
    "label = list(set(label_main))\n",
    "dict = {}\n",
    "counter = 0\n",
    "for i in label:\n",
    "    if i!='':\n",
    "        dict[i] = counter\n",
    "        counter +=1\n",
    "    "
   ]
  },
  {
   "cell_type": "code",
   "execution_count": 71,
   "metadata": {},
   "outputs": [
    {
     "data": {
      "text/plain": [
       "{'conflict': 0, 'cpn': 1, 'negative': 2, 'neutral': 3, 'positive': 4}"
      ]
     },
     "execution_count": 71,
     "metadata": {},
     "output_type": "execute_result"
    }
   ],
   "source": [
    "dict"
   ]
  },
  {
   "cell_type": "code",
   "execution_count": 39,
   "metadata": {},
   "outputs": [],
   "source": [
    "label2 = []\n",
    "for i in label_main:\n",
    "    label2.append(dict[i])"
   ]
  },
  {
   "cell_type": "code",
   "execution_count": 42,
   "metadata": {},
   "outputs": [],
   "source": [
    "import pickle\n",
    "outfile = open(\"hindi_sentiment.pkl\",'wb')\n",
    "pickle.dump(label2,outfile)\n",
    "outfile.close()"
   ]
  },
  {
   "cell_type": "code",
   "execution_count": 29,
   "metadata": {},
   "outputs": [],
   "source": [
    "f  = open(\"hindi_sentiment.txt\",\"w\")\n",
    "label_main = []\n",
    "for i in range(len(text_data)):\n",
    "    try:\n",
    "        f  = open(\"hindi_sentiment.txt\",\"a\")\n",
    "        f.write(text_data[i])\n",
    "        f.write(\"\\n\")\n",
    "        f.close()\n",
    "        label_main.append(label_data[i])\n",
    "        \n",
    "    except:\n",
    "        pass"
   ]
  },
  {
   "cell_type": "code",
   "execution_count": 16,
   "metadata": {},
   "outputs": [],
   "source": [
    "from translate import Translator\n",
    "translator= Translator(to_lang=\"en\")"
   ]
  },
  {
   "cell_type": "code",
   "execution_count": null,
   "metadata": {},
   "outputs": [],
   "source": [
    "pos_text = []\n",
    "counter = 0\n",
    "label_main = []\n",
    "for i in range(len(text_data)):\n",
    "    if counter % 200 == 0:\n",
    "        print(\"Done till ............... \",counter)\n",
    "    temp = []\n",
    "    try:\n",
    "        tag_gen= hindi_tagger(text_data[i],tnt_pos_tagger)\n",
    "        print(tag_gen)\n",
    "        for i in tag_gen:\n",
    "            temp.append(i[1])\n",
    "        pos_text.append(temp)\n",
    "        label_main.append(label_data)\n",
    "    except:\n",
    "        pass\n",
    "    counter +=1\n",
    "        "
   ]
  }
 ],
 "metadata": {
  "kernelspec": {
   "display_name": "Python 3",
   "language": "python",
   "name": "python3"
  },
  "language_info": {
   "codemirror_mode": {
    "name": "ipython",
    "version": 3
   },
   "file_extension": ".py",
   "mimetype": "text/x-python",
   "name": "python",
   "nbconvert_exporter": "python",
   "pygments_lexer": "ipython3",
   "version": "3.7.4"
  }
 },
 "nbformat": 4,
 "nbformat_minor": 2
}
