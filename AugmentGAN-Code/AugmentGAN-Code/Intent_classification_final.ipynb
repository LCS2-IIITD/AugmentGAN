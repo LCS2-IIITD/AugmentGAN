{
 "cells": [
  {
   "cell_type": "markdown",
   "metadata": {
    "colab_type": "text",
    "id": "view-in-github"
   },
   "source": [
    "<a href=\"https://colab.research.google.com/github/Dark-Sied/Intent_Classification/blob/master/Intent_classification_final.ipynb\" target=\"_parent\"><img src=\"https://colab.research.google.com/assets/colab-badge.svg\" alt=\"Open In Colab\"/></a>"
   ]
  },
  {
   "cell_type": "code",
   "execution_count": 1,
   "metadata": {
    "colab": {
     "base_uri": "https://localhost:8080/",
     "height": 34
    },
    "colab_type": "code",
    "id": "a_WypuUXi92e",
    "outputId": "133d026e-4236-4ff6-f21d-739bfb9640db"
   },
   "outputs": [
    {
     "name": "stderr",
     "output_type": "stream",
     "text": [
      "Using TensorFlow backend.\n"
     ]
    }
   ],
   "source": [
    "import numpy as np\n",
    "import pandas as pd\n",
    "from nltk.corpus import stopwords\n",
    "from nltk.tokenize import word_tokenize\n",
    "from nltk.stem.lancaster import LancasterStemmer\n",
    "import nltk\n",
    "import re\n",
    "from sklearn.preprocessing import OneHotEncoder\n",
    "import matplotlib.pyplot as plt\n",
    "from keras.preprocessing.text import Tokenizer\n",
    "from keras.preprocessing.sequence import pad_sequences\n",
    "from keras.utils import to_categorical\n",
    "from keras.models import Sequential, load_model\n",
    "from keras.layers import Dense, LSTM, Bidirectional, Embedding, Dropout\n",
    "from keras.callbacks import ModelCheckpoint\n",
    "from sklearn.model_selection import train_test_split"
   ]
  },
  {
   "cell_type": "code",
   "execution_count": 2,
   "metadata": {
    "colab": {},
    "colab_type": "code",
    "id": "LE6wywJrN2ih"
   },
   "outputs": [],
   "source": [
    "def load_dataset(filename):\n",
    "  df = pd.read_csv(filename, encoding = \"latin1\", names = [\"Sentence\", \"Intent\"])\n",
    "  print(df.head())\n",
    "  intent = df[\"Intent\"]\n",
    "  unique_intent = list(set(intent))\n",
    "  sentences = list(df[\"Sentence\"])\n",
    "  \n",
    "  return (intent, unique_intent, sentences)\n",
    "  \n"
   ]
  },
  {
   "cell_type": "code",
   "execution_count": 4,
   "metadata": {
    "colab": {
     "base_uri": "https://localhost:8080/",
     "height": 119
    },
    "colab_type": "code",
    "id": "tF0FQA7gjOCX",
    "outputId": "c609b42a-05da-49f5-8d11-bd670210f635"
   },
   "outputs": [
    {
     "name": "stdout",
     "output_type": "stream",
     "text": [
      "                Sentence          Intent\n",
      "0       Need help pleese  commonQ.assist\n",
      "1              Need help  commonQ.assist\n",
      "2       I need some info  commonQ.assist\n",
      "3      Will you help me?  commonQ.assist\n",
      "4  What else can you do?  commonQ.assist\n"
     ]
    }
   ],
   "source": [
    "intent, unique_intent, sentences = load_dataset(\"Dataset.csv\")"
   ]
  },
  {
   "cell_type": "code",
   "execution_count": 5,
   "metadata": {
    "colab": {
     "base_uri": "https://localhost:8080/",
     "height": 34
    },
    "colab_type": "code",
    "id": "O8LLUZlokg0S",
    "outputId": "c15c21dc-2ef2-43b7-b4af-e7ee9e014091"
   },
   "outputs": [
    {
     "name": "stdout",
     "output_type": "stream",
     "text": [
      "['Need help pleese', 'Need help', 'I need some info', 'Will you help me?', 'What else can you do?']\n"
     ]
    }
   ],
   "source": [
    "print(sentences[:5])"
   ]
  },
  {
   "cell_type": "code",
   "execution_count": 6,
   "metadata": {
    "colab": {
     "base_uri": "https://localhost:8080/",
     "height": 102
    },
    "colab_type": "code",
    "id": "MhrziINPGHbW",
    "outputId": "0861af1b-4b82-4c92-b8f4-b6b57bb3e380"
   },
   "outputs": [
    {
     "name": "stderr",
     "output_type": "stream",
     "text": [
      "[nltk_data] Downloading package stopwords to\n",
      "[nltk_data]     /home/suraj18025/nltk_data...\n",
      "[nltk_data]   Package stopwords is already up-to-date!\n",
      "[nltk_data] Downloading package punkt to /home/suraj18025/nltk_data...\n",
      "[nltk_data]   Package punkt is already up-to-date!\n"
     ]
    },
    {
     "data": {
      "text/plain": [
       "True"
      ]
     },
     "execution_count": 6,
     "metadata": {},
     "output_type": "execute_result"
    }
   ],
   "source": [
    "nltk.download(\"stopwords\")\n",
    "nltk.download(\"punkt\")"
   ]
  },
  {
   "cell_type": "code",
   "execution_count": 7,
   "metadata": {
    "colab": {},
    "colab_type": "code",
    "id": "OmNLu2YSXePb"
   },
   "outputs": [],
   "source": [
    "#define stemmer\n",
    "stemmer = LancasterStemmer()"
   ]
  },
  {
   "cell_type": "code",
   "execution_count": 8,
   "metadata": {
    "colab": {},
    "colab_type": "code",
    "id": "j-7q3iG5PKYI"
   },
   "outputs": [],
   "source": [
    "def cleaning(sentences):\n",
    "  words = []\n",
    "  for s in sentences:\n",
    "    clean = re.sub(r'[^ a-z A-Z 0-9]', \" \", s)\n",
    "    w = word_tokenize(clean)\n",
    "    #stemming\n",
    "    words.append([i.lower() for i in w])\n",
    "    \n",
    "  return words  "
   ]
  },
  {
   "cell_type": "code",
   "execution_count": 9,
   "metadata": {
    "colab": {
     "base_uri": "https://localhost:8080/",
     "height": 51
    },
    "colab_type": "code",
    "id": "p1j2GJgDG6qj",
    "outputId": "c7232a8e-6833-4a1d-e71a-4bc7014084a9"
   },
   "outputs": [
    {
     "name": "stdout",
     "output_type": "stream",
     "text": [
      "1113\n",
      "[['need', 'help', 'pleese'], ['need', 'help']]\n"
     ]
    }
   ],
   "source": [
    "cleaned_words = cleaning(sentences)\n",
    "print(len(cleaned_words))\n",
    "print(cleaned_words[:2])  \n"
   ]
  },
  {
   "cell_type": "code",
   "execution_count": 10,
   "metadata": {
    "colab": {},
    "colab_type": "code",
    "id": "SJCQ_YhBJW7t"
   },
   "outputs": [],
   "source": [
    "def create_tokenizer(words, filters = '!\"#$%&()*+,-./:;<=>?@[\\]^_`{|}~'):\n",
    "  token = Tokenizer(filters = filters)\n",
    "  token.fit_on_texts(words)\n",
    "  return token"
   ]
  },
  {
   "cell_type": "code",
   "execution_count": 11,
   "metadata": {
    "colab": {},
    "colab_type": "code",
    "id": "QJhdIJC5Q3Q6"
   },
   "outputs": [],
   "source": [
    "def max_length(words):\n",
    "  return(len(max(words, key = len)))\n",
    "  "
   ]
  },
  {
   "cell_type": "code",
   "execution_count": 12,
   "metadata": {
    "colab": {
     "base_uri": "https://localhost:8080/",
     "height": 34
    },
    "colab_type": "code",
    "id": "JWjxPGsZZJNX",
    "outputId": "b02c8f6b-d0df-4e90-fa3a-2ff730c88300"
   },
   "outputs": [
    {
     "name": "stdout",
     "output_type": "stream",
     "text": [
      "Vocab Size = 492 and Maximum length = 28\n"
     ]
    }
   ],
   "source": [
    "word_tokenizer = create_tokenizer(cleaned_words)\n",
    "vocab_size = len(word_tokenizer.word_index) + 1\n",
    "max_length = max_length(cleaned_words)\n",
    "\n",
    "print(\"Vocab Size = %d and Maximum length = %d\" % (vocab_size, max_length))"
   ]
  },
  {
   "cell_type": "code",
   "execution_count": 13,
   "metadata": {
    "colab": {},
    "colab_type": "code",
    "id": "D0TXu2xsR8jq"
   },
   "outputs": [],
   "source": [
    "def encoding_doc(token, words):\n",
    "  return(token.texts_to_sequences(words))"
   ]
  },
  {
   "cell_type": "code",
   "execution_count": 14,
   "metadata": {
    "colab": {},
    "colab_type": "code",
    "id": "dE92Hk1Va--H"
   },
   "outputs": [],
   "source": [
    "encoded_doc = encoding_doc(word_tokenizer, cleaned_words)"
   ]
  },
  {
   "cell_type": "code",
   "execution_count": 15,
   "metadata": {
    "colab": {},
    "colab_type": "code",
    "id": "fyOzLEboc4LZ"
   },
   "outputs": [],
   "source": [
    "def padding_doc(encoded_doc, max_length):\n",
    "  return(pad_sequences(encoded_doc, maxlen = max_length, padding = \"post\"))"
   ]
  },
  {
   "cell_type": "code",
   "execution_count": 16,
   "metadata": {
    "colab": {},
    "colab_type": "code",
    "id": "WdejoJrlc-tc"
   },
   "outputs": [],
   "source": [
    "padded_doc = padding_doc(encoded_doc, max_length)"
   ]
  },
  {
   "cell_type": "code",
   "execution_count": 17,
   "metadata": {
    "colab": {
     "base_uri": "https://localhost:8080/",
     "height": 272
    },
    "colab_type": "code",
    "id": "gDgTCS2KdI2p",
    "outputId": "ac5332cd-0a0f-4311-8db4-22df92728d90"
   },
   "outputs": [
    {
     "data": {
      "text/plain": [
       "array([[ 25,  77, 332,   0,   0,   0,   0,   0,   0,   0,   0,   0,   0,\n",
       "          0,   0,   0,   0,   0,   0,   0,   0,   0,   0,   0,   0,   0,\n",
       "          0,   0],\n",
       "       [ 25,  77,   0,   0,   0,   0,   0,   0,   0,   0,   0,   0,   0,\n",
       "          0,   0,   0,   0,   0,   0,   0,   0,   0,   0,   0,   0,   0,\n",
       "          0,   0],\n",
       "       [  1,  25, 198, 181,   0,   0,   0,   0,   0,   0,   0,   0,   0,\n",
       "          0,   0,   0,   0,   0,   0,   0,   0,   0,   0,   0,   0,   0,\n",
       "          0,   0],\n",
       "       [ 51,  10,  77,  16,   0,   0,   0,   0,   0,   0,   0,   0,   0,\n",
       "          0,   0,   0,   0,   0,   0,   0,   0,   0,   0,   0,   0,   0,\n",
       "          0,   0],\n",
       "       [  8, 268,   4,  10,  30,   0,   0,   0,   0,   0,   0,   0,   0,\n",
       "          0,   0,   0,   0,   0,   0,   0,   0,   0,   0,   0,   0,   0,\n",
       "          0,   0]], dtype=int32)"
      ]
     },
     "execution_count": 17,
     "metadata": {},
     "output_type": "execute_result"
    }
   ],
   "source": [
    "padded_doc[:5]"
   ]
  },
  {
   "cell_type": "code",
   "execution_count": 18,
   "metadata": {
    "colab": {
     "base_uri": "https://localhost:8080/",
     "height": 34
    },
    "colab_type": "code",
    "id": "3eaSIDi0dNf1",
    "outputId": "4ab6b6dd-ffa4-4061-9e9d-7a01decfa837"
   },
   "outputs": [
    {
     "name": "stdout",
     "output_type": "stream",
     "text": [
      "Shape of padded docs =  (1113, 28)\n"
     ]
    }
   ],
   "source": [
    "print(\"Shape of padded docs = \",padded_doc.shape)"
   ]
  },
  {
   "cell_type": "code",
   "execution_count": 19,
   "metadata": {
    "colab": {},
    "colab_type": "code",
    "id": "X0rXzenSpgFR"
   },
   "outputs": [],
   "source": [
    "#tokenizer with filter changed\n",
    "output_tokenizer = create_tokenizer(unique_intent, filters = '!\"#$%&()*+,-/:;<=>?@[\\]^`{|}~')"
   ]
  },
  {
   "cell_type": "code",
   "execution_count": 46,
   "metadata": {
    "colab": {
     "base_uri": "https://localhost:8080/",
     "height": 374
    },
    "colab_type": "code",
    "id": "yNHQtkszskxr",
    "outputId": "f5babc01-89e3-4392-e8e6-c9f257de3d07"
   },
   "outputs": [
    {
     "data": {
      "text/plain": [
       "\"{'commonq.how': 1, 'faq.borrow_use': 2, 'commonq.wait': 3, 'faq.approval_time': 4, 'faq.aadhaar_missing': 5, 'faq.bad_service': 6, 'commonq.not_giving': 7, 'faq.apply_register': 8, 'faq.borrow_limit': 9, 'faq.biz_category_missing': 10, 'faq.biz_simpler': 11, 'commonq.just_details': 12, 'commonq.bot': 13, 'commonq.name': 14, 'commonq.query': 15, 'faq.address_proof': 16, 'contact.contact': 17, 'faq.banking_option_missing': 18, 'commonq.assist': 19, 'faq.application_process': 20, 'faq.biz_new': 21}\""
      ]
     },
     "execution_count": 46,
     "metadata": {},
     "output_type": "execute_result"
    }
   ],
   "source": [
    "str(output_tokenizer.word_index)"
   ]
  },
  {
   "cell_type": "code",
   "execution_count": 21,
   "metadata": {
    "colab": {},
    "colab_type": "code",
    "id": "7OOx9qdBto1-"
   },
   "outputs": [],
   "source": [
    "encoded_output = encoding_doc(output_tokenizer, intent)"
   ]
  },
  {
   "cell_type": "code",
   "execution_count": 22,
   "metadata": {
    "colab": {},
    "colab_type": "code",
    "id": "0_5Lv5PiyG-z"
   },
   "outputs": [],
   "source": [
    "encoded_output = np.array(encoded_output).reshape(len(encoded_output), 1)"
   ]
  },
  {
   "cell_type": "code",
   "execution_count": 43,
   "metadata": {},
   "outputs": [],
   "source": [
    "dict = {}\n",
    "for i in encoded_output:\n",
    "    try:\n",
    "        \n",
    "        dict[i[0]] +=1\n",
    "    except:\n",
    "        dict[i[0]] =1"
   ]
  },
  {
   "cell_type": "code",
   "execution_count": 45,
   "metadata": {},
   "outputs": [
    {
     "data": {
      "text/plain": [
       "'{19: 20, 13: 26, 1: 12, 12: 6, 14: 18, 7: 11, 15: 7, 3: 7, 17: 136, 5: 35, 16: 59, 20: 203, 8: 62, 4: 62, 6: 14, 18: 54, 10: 40, 21: 68, 11: 94, 9: 76, 2: 103}'"
      ]
     },
     "execution_count": 45,
     "metadata": {},
     "output_type": "execute_result"
    }
   ],
   "source": [
    "str(dict)"
   ]
  },
  {
   "cell_type": "code",
   "execution_count": 24,
   "metadata": {
    "colab": {},
    "colab_type": "code",
    "id": "rD3QN-RPzfet"
   },
   "outputs": [],
   "source": [
    "def one_hot(encode):\n",
    "  o = OneHotEncoder(sparse = False)\n",
    "  return(o.fit_transform(encode))"
   ]
  },
  {
   "cell_type": "code",
   "execution_count": 25,
   "metadata": {
    "colab": {},
    "colab_type": "code",
    "id": "Z6wP_Xed7RNR"
   },
   "outputs": [
    {
     "name": "stderr",
     "output_type": "stream",
     "text": [
      "/home/suraj18025/anaconda3/lib/python3.7/site-packages/sklearn/preprocessing/_encoders.py:415: FutureWarning: The handling of integer data will change in version 0.22. Currently, the categories are determined based on the range [0, max(values)], while in the future they will be determined based on the unique values.\n",
      "If you want the future behaviour and silence this warning, you can specify \"categories='auto'\".\n",
      "In case you used a LabelEncoder before this OneHotEncoder to convert the categories to integers, then you can now use the OneHotEncoder directly.\n",
      "  warnings.warn(msg, FutureWarning)\n"
     ]
    }
   ],
   "source": [
    "output_one_hot = one_hot(encoded_output)"
   ]
  },
  {
   "cell_type": "code",
   "execution_count": 28,
   "metadata": {
    "colab": {},
    "colab_type": "code",
    "id": "h8P4HTz6A4E-"
   },
   "outputs": [],
   "source": [
    "train_X, val_X, train_Y, val_Y = train_test_split(padded_doc, output_one_hot, shuffle = True, test_size = 0.2)\n"
   ]
  },
  {
   "cell_type": "code",
   "execution_count": 29,
   "metadata": {
    "colab": {
     "base_uri": "https://localhost:8080/",
     "height": 51
    },
    "colab_type": "code",
    "id": "7E0uhC2OCtTx",
    "outputId": "6ce0e215-aa3f-43f1-ba5a-0b584b25a35c"
   },
   "outputs": [
    {
     "name": "stdout",
     "output_type": "stream",
     "text": [
      "Shape of train_X = (890, 28) and train_Y = (890, 21)\n",
      "Shape of val_X = (223, 28) and val_Y = (223, 21)\n"
     ]
    }
   ],
   "source": [
    "print(\"Shape of train_X = %s and train_Y = %s\" % (train_X.shape, train_Y.shape))\n",
    "print(\"Shape of val_X = %s and val_Y = %s\" % (val_X.shape, val_Y.shape))"
   ]
  },
  {
   "cell_type": "code",
   "execution_count": 30,
   "metadata": {
    "colab": {},
    "colab_type": "code",
    "id": "e5BU_x74DNEb"
   },
   "outputs": [],
   "source": [
    "def create_model(vocab_size, max_length):\n",
    "  model = Sequential()\n",
    "  model.add(Embedding(vocab_size, 128, input_length = max_length, trainable = False))\n",
    "  model.add(Bidirectional(LSTM(128)))\n",
    "#   model.add(LSTM(128))\n",
    "  model.add(Dense(32, activation = \"relu\"))\n",
    "  model.add(Dropout(0.5))\n",
    "  model.add(Dense(21, activation = \"softmax\"))\n",
    "  \n",
    "  return model"
   ]
  },
  {
   "cell_type": "code",
   "execution_count": 31,
   "metadata": {
    "colab": {
     "base_uri": "https://localhost:8080/",
     "height": 306
    },
    "colab_type": "code",
    "id": "f-NvE0P7MFCe",
    "outputId": "8f07056b-579e-4c15-e1af-bdfa8f681e79"
   },
   "outputs": [
    {
     "name": "stdout",
     "output_type": "stream",
     "text": [
      "Model: \"sequential_1\"\n",
      "_________________________________________________________________\n",
      "Layer (type)                 Output Shape              Param #   \n",
      "=================================================================\n",
      "embedding_1 (Embedding)      (None, 28, 128)           62976     \n",
      "_________________________________________________________________\n",
      "bidirectional_1 (Bidirection (None, 256)               263168    \n",
      "_________________________________________________________________\n",
      "dense_1 (Dense)              (None, 32)                8224      \n",
      "_________________________________________________________________\n",
      "dropout_1 (Dropout)          (None, 32)                0         \n",
      "_________________________________________________________________\n",
      "dense_2 (Dense)              (None, 21)                693       \n",
      "=================================================================\n",
      "Total params: 335,061\n",
      "Trainable params: 272,085\n",
      "Non-trainable params: 62,976\n",
      "_________________________________________________________________\n"
     ]
    }
   ],
   "source": [
    "model = create_model(vocab_size, max_length)\n",
    "\n",
    "model.compile(loss = \"categorical_crossentropy\", optimizer = \"adam\", metrics = [\"accuracy\"])\n",
    "model.summary()"
   ]
  },
  {
   "cell_type": "code",
   "execution_count": 32,
   "metadata": {
    "colab": {
     "base_uri": "https://localhost:8080/",
     "height": 6834
    },
    "colab_type": "code",
    "id": "_r-dxm2sMQ-d",
    "outputId": "3c37b4f8-fc4e-4c82-ab46-2aa1d8b47ffd"
   },
   "outputs": [
    {
     "name": "stdout",
     "output_type": "stream",
     "text": [
      "Train on 890 samples, validate on 223 samples\n",
      "Epoch 1/100\n",
      "890/890 [==============================] - 3s 3ms/step - loss: 2.9605 - accuracy: 0.1449 - val_loss: 2.8635 - val_accuracy: 0.1749\n",
      "\n",
      "Epoch 00001: val_loss improved from inf to 2.86346, saving model to model.h5\n",
      "Epoch 2/100\n",
      "890/890 [==============================] - 1s 1ms/step - loss: 2.8857 - accuracy: 0.1416 - val_loss: 2.8136 - val_accuracy: 0.1749\n",
      "\n",
      "Epoch 00002: val_loss improved from 2.86346 to 2.81362, saving model to model.h5\n",
      "Epoch 3/100\n",
      "890/890 [==============================] - 1s 1ms/step - loss: 2.8356 - accuracy: 0.1393 - val_loss: 2.7266 - val_accuracy: 0.1749\n",
      "\n",
      "Epoch 00003: val_loss improved from 2.81362 to 2.72657, saving model to model.h5\n",
      "Epoch 4/100\n",
      "890/890 [==============================] - 1s 1ms/step - loss: 2.7898 - accuracy: 0.1562 - val_loss: 2.6761 - val_accuracy: 0.1749\n",
      "\n",
      "Epoch 00004: val_loss improved from 2.72657 to 2.67606, saving model to model.h5\n",
      "Epoch 5/100\n",
      "890/890 [==============================] - 1s 1ms/step - loss: 2.7009 - accuracy: 0.1652 - val_loss: 2.5803 - val_accuracy: 0.2018\n",
      "\n",
      "Epoch 00005: val_loss improved from 2.67606 to 2.58033, saving model to model.h5\n",
      "Epoch 6/100\n",
      "890/890 [==============================] - 1s 1ms/step - loss: 2.6433 - accuracy: 0.1955 - val_loss: 2.4620 - val_accuracy: 0.2466\n",
      "\n",
      "Epoch 00006: val_loss improved from 2.58033 to 2.46197, saving model to model.h5\n",
      "Epoch 7/100\n",
      "890/890 [==============================] - 1s 1ms/step - loss: 2.5683 - accuracy: 0.2011 - val_loss: 2.4232 - val_accuracy: 0.2601\n",
      "\n",
      "Epoch 00007: val_loss improved from 2.46197 to 2.42324, saving model to model.h5\n",
      "Epoch 8/100\n",
      "890/890 [==============================] - 1s 1ms/step - loss: 2.4835 - accuracy: 0.2506 - val_loss: 2.3092 - val_accuracy: 0.3453\n",
      "\n",
      "Epoch 00008: val_loss improved from 2.42324 to 2.30923, saving model to model.h5\n",
      "Epoch 9/100\n",
      "890/890 [==============================] - 1s 1ms/step - loss: 2.3954 - accuracy: 0.2775 - val_loss: 2.3484 - val_accuracy: 0.3139\n",
      "\n",
      "Epoch 00009: val_loss did not improve from 2.30923\n",
      "Epoch 10/100\n",
      "890/890 [==============================] - 1s 1ms/step - loss: 2.3640 - accuracy: 0.2607 - val_loss: 2.1145 - val_accuracy: 0.3587\n",
      "\n",
      "Epoch 00010: val_loss improved from 2.30923 to 2.11451, saving model to model.h5\n",
      "Epoch 11/100\n",
      "890/890 [==============================] - 1s 1ms/step - loss: 2.2224 - accuracy: 0.3011 - val_loss: 2.0606 - val_accuracy: 0.3812\n",
      "\n",
      "Epoch 00011: val_loss improved from 2.11451 to 2.06062, saving model to model.h5\n",
      "Epoch 12/100\n",
      "890/890 [==============================] - 1s 1ms/step - loss: 2.1637 - accuracy: 0.3281 - val_loss: 1.9915 - val_accuracy: 0.3812\n",
      "\n",
      "Epoch 00012: val_loss improved from 2.06062 to 1.99154, saving model to model.h5\n",
      "Epoch 13/100\n",
      "890/890 [==============================] - 1s 1ms/step - loss: 2.0770 - accuracy: 0.3629 - val_loss: 1.9302 - val_accuracy: 0.4439\n",
      "\n",
      "Epoch 00013: val_loss improved from 1.99154 to 1.93020, saving model to model.h5\n",
      "Epoch 14/100\n",
      "890/890 [==============================] - 1s 1ms/step - loss: 1.9932 - accuracy: 0.3596 - val_loss: 1.8634 - val_accuracy: 0.4036\n",
      "\n",
      "Epoch 00014: val_loss improved from 1.93020 to 1.86337, saving model to model.h5\n",
      "Epoch 15/100\n",
      "890/890 [==============================] - 1s 1ms/step - loss: 1.9724 - accuracy: 0.3843 - val_loss: 1.7702 - val_accuracy: 0.4843\n",
      "\n",
      "Epoch 00015: val_loss improved from 1.86337 to 1.77019, saving model to model.h5\n",
      "Epoch 16/100\n",
      "890/890 [==============================] - 1s 1ms/step - loss: 1.9063 - accuracy: 0.4202 - val_loss: 1.6850 - val_accuracy: 0.5291\n",
      "\n",
      "Epoch 00016: val_loss improved from 1.77019 to 1.68503, saving model to model.h5\n",
      "Epoch 17/100\n",
      "890/890 [==============================] - 1s 1ms/step - loss: 1.7549 - accuracy: 0.4315 - val_loss: 1.6401 - val_accuracy: 0.5381\n",
      "\n",
      "Epoch 00017: val_loss improved from 1.68503 to 1.64015, saving model to model.h5\n",
      "Epoch 18/100\n",
      "890/890 [==============================] - 1s 1ms/step - loss: 1.7004 - accuracy: 0.4910 - val_loss: 1.5293 - val_accuracy: 0.5919\n",
      "\n",
      "Epoch 00018: val_loss improved from 1.64015 to 1.52931, saving model to model.h5\n",
      "Epoch 19/100\n",
      "890/890 [==============================] - 1s 1ms/step - loss: 1.6498 - accuracy: 0.5157 - val_loss: 1.5058 - val_accuracy: 0.5426\n",
      "\n",
      "Epoch 00019: val_loss improved from 1.52931 to 1.50577, saving model to model.h5\n",
      "Epoch 20/100\n",
      "890/890 [==============================] - 1s 1ms/step - loss: 1.5971 - accuracy: 0.5157 - val_loss: 1.3429 - val_accuracy: 0.5740\n",
      "\n",
      "Epoch 00020: val_loss improved from 1.50577 to 1.34293, saving model to model.h5\n",
      "Epoch 21/100\n",
      "890/890 [==============================] - 1s 1ms/step - loss: 1.4852 - accuracy: 0.5483 - val_loss: 1.3618 - val_accuracy: 0.6323\n",
      "\n",
      "Epoch 00021: val_loss did not improve from 1.34293\n",
      "Epoch 22/100\n",
      "890/890 [==============================] - 1s 1ms/step - loss: 1.4441 - accuracy: 0.5416 - val_loss: 1.3538 - val_accuracy: 0.6054\n",
      "\n",
      "Epoch 00022: val_loss did not improve from 1.34293\n",
      "Epoch 23/100\n",
      "890/890 [==============================] - 1s 1ms/step - loss: 1.4043 - accuracy: 0.5697 - val_loss: 1.4129 - val_accuracy: 0.6233\n",
      "\n",
      "Epoch 00023: val_loss did not improve from 1.34293\n",
      "Epoch 24/100\n",
      "890/890 [==============================] - 1s 1ms/step - loss: 1.3490 - accuracy: 0.5921 - val_loss: 1.2634 - val_accuracy: 0.6413\n",
      "\n",
      "Epoch 00024: val_loss improved from 1.34293 to 1.26337, saving model to model.h5\n",
      "Epoch 25/100\n",
      "890/890 [==============================] - 1s 1ms/step - loss: 1.2700 - accuracy: 0.6180 - val_loss: 1.2335 - val_accuracy: 0.6547\n",
      "\n",
      "Epoch 00025: val_loss improved from 1.26337 to 1.23355, saving model to model.h5\n",
      "Epoch 26/100\n",
      "890/890 [==============================] - 1s 1ms/step - loss: 1.2235 - accuracy: 0.6326 - val_loss: 1.2150 - val_accuracy: 0.6637\n",
      "\n",
      "Epoch 00026: val_loss improved from 1.23355 to 1.21503, saving model to model.h5\n",
      "Epoch 27/100\n",
      "890/890 [==============================] - 1s 1ms/step - loss: 1.1614 - accuracy: 0.6371 - val_loss: 1.1871 - val_accuracy: 0.6637\n",
      "\n",
      "Epoch 00027: val_loss improved from 1.21503 to 1.18707, saving model to model.h5\n",
      "Epoch 28/100\n",
      "890/890 [==============================] - 1s 1ms/step - loss: 1.1499 - accuracy: 0.6472 - val_loss: 1.1971 - val_accuracy: 0.6637\n",
      "\n",
      "Epoch 00028: val_loss did not improve from 1.18707\n",
      "Epoch 29/100\n",
      "890/890 [==============================] - 1s 1ms/step - loss: 1.1211 - accuracy: 0.6562 - val_loss: 1.1662 - val_accuracy: 0.6726\n",
      "\n",
      "Epoch 00029: val_loss improved from 1.18707 to 1.16621, saving model to model.h5\n",
      "Epoch 30/100\n",
      "890/890 [==============================] - 1s 1ms/step - loss: 1.0377 - accuracy: 0.6888 - val_loss: 1.1343 - val_accuracy: 0.7040\n",
      "\n",
      "Epoch 00030: val_loss improved from 1.16621 to 1.13433, saving model to model.h5\n",
      "Epoch 31/100\n",
      "890/890 [==============================] - 1s 1ms/step - loss: 1.0431 - accuracy: 0.6865 - val_loss: 1.1255 - val_accuracy: 0.6816\n",
      "\n",
      "Epoch 00031: val_loss improved from 1.13433 to 1.12548, saving model to model.h5\n",
      "Epoch 32/100\n",
      "890/890 [==============================] - 1s 1ms/step - loss: 1.0382 - accuracy: 0.6809 - val_loss: 1.1325 - val_accuracy: 0.7175\n",
      "\n",
      "Epoch 00032: val_loss did not improve from 1.12548\n",
      "Epoch 33/100\n",
      "890/890 [==============================] - 1s 1ms/step - loss: 0.9851 - accuracy: 0.6865 - val_loss: 1.1626 - val_accuracy: 0.7220\n",
      "\n",
      "Epoch 00033: val_loss did not improve from 1.12548\n",
      "Epoch 34/100\n",
      "890/890 [==============================] - 1s 1ms/step - loss: 0.9556 - accuracy: 0.6944 - val_loss: 1.5760 - val_accuracy: 0.6726\n",
      "\n",
      "Epoch 00034: val_loss did not improve from 1.12548\n",
      "Epoch 35/100\n",
      "890/890 [==============================] - 1s 1ms/step - loss: 1.1411 - accuracy: 0.6674 - val_loss: 1.0712 - val_accuracy: 0.7489\n",
      "\n",
      "Epoch 00035: val_loss improved from 1.12548 to 1.07116, saving model to model.h5\n",
      "Epoch 36/100\n",
      "890/890 [==============================] - 1s 1ms/step - loss: 0.9689 - accuracy: 0.7067 - val_loss: 1.1215 - val_accuracy: 0.6996\n",
      "\n",
      "Epoch 00036: val_loss did not improve from 1.07116\n",
      "Epoch 37/100\n",
      "890/890 [==============================] - 1s 1ms/step - loss: 1.1366 - accuracy: 0.6663 - val_loss: 1.1154 - val_accuracy: 0.7085\n",
      "\n",
      "Epoch 00037: val_loss did not improve from 1.07116\n",
      "Epoch 38/100\n",
      "890/890 [==============================] - 1s 1ms/step - loss: 1.0490 - accuracy: 0.6921 - val_loss: 1.0903 - val_accuracy: 0.7399\n",
      "\n",
      "Epoch 00038: val_loss did not improve from 1.07116\n",
      "Epoch 39/100\n",
      "890/890 [==============================] - 1s 1ms/step - loss: 0.8746 - accuracy: 0.7393 - val_loss: 1.0903 - val_accuracy: 0.7265\n",
      "\n",
      "Epoch 00039: val_loss did not improve from 1.07116\n",
      "Epoch 40/100\n",
      "890/890 [==============================] - 1s 1ms/step - loss: 0.8769 - accuracy: 0.7191 - val_loss: 1.0623 - val_accuracy: 0.7444\n",
      "\n",
      "Epoch 00040: val_loss improved from 1.07116 to 1.06231, saving model to model.h5\n",
      "Epoch 41/100\n",
      "890/890 [==============================] - 1s 1ms/step - loss: 0.8513 - accuracy: 0.7270 - val_loss: 1.0323 - val_accuracy: 0.7220\n",
      "\n",
      "Epoch 00041: val_loss improved from 1.06231 to 1.03228, saving model to model.h5\n",
      "Epoch 42/100\n",
      "890/890 [==============================] - 1s 1ms/step - loss: 0.8015 - accuracy: 0.7393 - val_loss: 1.0139 - val_accuracy: 0.7489\n",
      "\n",
      "Epoch 00042: val_loss improved from 1.03228 to 1.01391, saving model to model.h5\n",
      "Epoch 43/100\n",
      "890/890 [==============================] - 1s 1ms/step - loss: 0.7890 - accuracy: 0.7652 - val_loss: 1.0152 - val_accuracy: 0.7354\n",
      "\n",
      "Epoch 00043: val_loss did not improve from 1.01391\n",
      "Epoch 44/100\n",
      "890/890 [==============================] - 1s 1ms/step - loss: 0.8978 - accuracy: 0.7225 - val_loss: 1.0013 - val_accuracy: 0.7713\n",
      "\n",
      "Epoch 00044: val_loss improved from 1.01391 to 1.00133, saving model to model.h5\n",
      "Epoch 45/100\n",
      "890/890 [==============================] - 1s 1ms/step - loss: 0.8672 - accuracy: 0.7528 - val_loss: 1.0169 - val_accuracy: 0.7444\n",
      "\n",
      "Epoch 00045: val_loss did not improve from 1.00133\n",
      "Epoch 46/100\n",
      "890/890 [==============================] - 1s 1ms/step - loss: 0.7336 - accuracy: 0.7742 - val_loss: 0.9828 - val_accuracy: 0.7578\n",
      "\n",
      "Epoch 00046: val_loss improved from 1.00133 to 0.98281, saving model to model.h5\n",
      "Epoch 47/100\n",
      "890/890 [==============================] - 1s 1ms/step - loss: 0.6917 - accuracy: 0.7921 - val_loss: 1.0001 - val_accuracy: 0.7758\n",
      "\n",
      "Epoch 00047: val_loss did not improve from 0.98281\n",
      "Epoch 48/100\n",
      "890/890 [==============================] - 1s 1ms/step - loss: 0.7217 - accuracy: 0.7764 - val_loss: 1.0224 - val_accuracy: 0.7578\n",
      "\n",
      "Epoch 00048: val_loss did not improve from 0.98281\n",
      "Epoch 49/100\n",
      "890/890 [==============================] - 1s 1ms/step - loss: 0.6973 - accuracy: 0.7910 - val_loss: 0.9992 - val_accuracy: 0.7489\n",
      "\n",
      "Epoch 00049: val_loss did not improve from 0.98281\n",
      "Epoch 50/100\n",
      "890/890 [==============================] - 1s 1ms/step - loss: 0.6963 - accuracy: 0.7876 - val_loss: 1.0099 - val_accuracy: 0.7534\n",
      "\n",
      "Epoch 00050: val_loss did not improve from 0.98281\n",
      "Epoch 51/100\n",
      "890/890 [==============================] - 1s 1ms/step - loss: 0.7001 - accuracy: 0.7843 - val_loss: 0.9748 - val_accuracy: 0.7668\n",
      "\n",
      "Epoch 00051: val_loss improved from 0.98281 to 0.97483, saving model to model.h5\n",
      "Epoch 52/100\n",
      "890/890 [==============================] - 1s 1ms/step - loss: 0.6352 - accuracy: 0.7921 - val_loss: 1.0629 - val_accuracy: 0.7489\n",
      "\n",
      "Epoch 00052: val_loss did not improve from 0.97483\n",
      "Epoch 53/100\n",
      "890/890 [==============================] - 1s 1ms/step - loss: 0.7373 - accuracy: 0.7685 - val_loss: 1.0201 - val_accuracy: 0.7444\n",
      "\n",
      "Epoch 00053: val_loss did not improve from 0.97483\n",
      "Epoch 54/100\n",
      "890/890 [==============================] - 1s 1ms/step - loss: 0.6758 - accuracy: 0.7910 - val_loss: 1.0426 - val_accuracy: 0.7803\n",
      "\n",
      "Epoch 00054: val_loss did not improve from 0.97483\n",
      "Epoch 55/100\n",
      "890/890 [==============================] - 1s 1ms/step - loss: 0.6235 - accuracy: 0.7989 - val_loss: 1.1008 - val_accuracy: 0.7713\n",
      "\n",
      "Epoch 00055: val_loss did not improve from 0.97483\n",
      "Epoch 56/100\n",
      "890/890 [==============================] - 1s 1ms/step - loss: 0.6499 - accuracy: 0.7966 - val_loss: 1.0076 - val_accuracy: 0.7713\n",
      "\n",
      "Epoch 00056: val_loss did not improve from 0.97483\n",
      "Epoch 57/100\n",
      "890/890 [==============================] - 1s 1ms/step - loss: 0.6606 - accuracy: 0.7978 - val_loss: 0.9697 - val_accuracy: 0.7803\n",
      "\n",
      "Epoch 00057: val_loss improved from 0.97483 to 0.96967, saving model to model.h5\n",
      "Epoch 58/100\n",
      "890/890 [==============================] - 1s 1ms/step - loss: 0.6791 - accuracy: 0.7899 - val_loss: 0.9642 - val_accuracy: 0.7668\n",
      "\n",
      "Epoch 00058: val_loss improved from 0.96967 to 0.96422, saving model to model.h5\n",
      "Epoch 59/100\n",
      "890/890 [==============================] - 1s 1ms/step - loss: 0.6043 - accuracy: 0.8157 - val_loss: 1.0038 - val_accuracy: 0.7713\n",
      "\n",
      "Epoch 00059: val_loss did not improve from 0.96422\n",
      "Epoch 60/100\n",
      "890/890 [==============================] - 1s 1ms/step - loss: 0.6066 - accuracy: 0.7944 - val_loss: 0.9994 - val_accuracy: 0.7892\n",
      "\n",
      "Epoch 00060: val_loss did not improve from 0.96422\n",
      "Epoch 61/100\n",
      "890/890 [==============================] - 1s 1ms/step - loss: 0.5905 - accuracy: 0.8079 - val_loss: 1.0356 - val_accuracy: 0.7713\n",
      "\n",
      "Epoch 00061: val_loss did not improve from 0.96422\n",
      "Epoch 62/100\n",
      "890/890 [==============================] - 1s 1ms/step - loss: 0.5573 - accuracy: 0.8247 - val_loss: 1.1599 - val_accuracy: 0.7848\n",
      "\n",
      "Epoch 00062: val_loss did not improve from 0.96422\n",
      "Epoch 63/100\n",
      "890/890 [==============================] - 1s 1ms/step - loss: 0.6091 - accuracy: 0.8202 - val_loss: 1.1931 - val_accuracy: 0.7265\n",
      "\n",
      "Epoch 00063: val_loss did not improve from 0.96422\n",
      "Epoch 64/100\n",
      "890/890 [==============================] - 1s 1ms/step - loss: 0.6954 - accuracy: 0.7865 - val_loss: 1.1038 - val_accuracy: 0.7803\n",
      "\n",
      "Epoch 00064: val_loss did not improve from 0.96422\n",
      "Epoch 65/100\n",
      "890/890 [==============================] - 1s 1ms/step - loss: 0.6450 - accuracy: 0.8101 - val_loss: 0.8518 - val_accuracy: 0.7937\n",
      "\n",
      "Epoch 00065: val_loss improved from 0.96422 to 0.85180, saving model to model.h5\n",
      "Epoch 66/100\n",
      "890/890 [==============================] - 1s 1ms/step - loss: 0.5580 - accuracy: 0.8225 - val_loss: 0.9531 - val_accuracy: 0.7848\n",
      "\n",
      "Epoch 00066: val_loss did not improve from 0.85180\n",
      "Epoch 67/100\n",
      "890/890 [==============================] - 1s 1ms/step - loss: 0.5364 - accuracy: 0.8303 - val_loss: 0.8852 - val_accuracy: 0.7803\n",
      "\n",
      "Epoch 00067: val_loss did not improve from 0.85180\n",
      "Epoch 68/100\n",
      "890/890 [==============================] - 1s 1ms/step - loss: 0.5247 - accuracy: 0.8258 - val_loss: 1.0472 - val_accuracy: 0.7668\n",
      "\n",
      "Epoch 00068: val_loss did not improve from 0.85180\n",
      "Epoch 69/100\n",
      "890/890 [==============================] - 1s 1ms/step - loss: 0.5047 - accuracy: 0.8438 - val_loss: 1.0305 - val_accuracy: 0.7713\n",
      "\n",
      "Epoch 00069: val_loss did not improve from 0.85180\n",
      "Epoch 70/100\n",
      "890/890 [==============================] - 1s 1ms/step - loss: 0.5005 - accuracy: 0.8416 - val_loss: 0.9962 - val_accuracy: 0.7803\n",
      "\n",
      "Epoch 00070: val_loss did not improve from 0.85180\n",
      "Epoch 71/100\n",
      "890/890 [==============================] - 1s 1ms/step - loss: 0.4871 - accuracy: 0.8337 - val_loss: 1.1044 - val_accuracy: 0.7892\n",
      "\n",
      "Epoch 00071: val_loss did not improve from 0.85180\n",
      "Epoch 72/100\n",
      "890/890 [==============================] - 1s 1ms/step - loss: 0.5050 - accuracy: 0.8326 - val_loss: 1.1153 - val_accuracy: 0.7758\n",
      "\n",
      "Epoch 00072: val_loss did not improve from 0.85180\n",
      "Epoch 73/100\n",
      "890/890 [==============================] - 1s 1ms/step - loss: 0.4631 - accuracy: 0.8461 - val_loss: 1.2134 - val_accuracy: 0.7892\n",
      "\n",
      "Epoch 00073: val_loss did not improve from 0.85180\n",
      "Epoch 74/100\n",
      "890/890 [==============================] - 1s 1ms/step - loss: 0.5322 - accuracy: 0.8225 - val_loss: 1.1078 - val_accuracy: 0.7713\n",
      "\n",
      "Epoch 00074: val_loss did not improve from 0.85180\n",
      "Epoch 75/100\n",
      "890/890 [==============================] - 1s 1ms/step - loss: 0.5406 - accuracy: 0.8281 - val_loss: 1.0304 - val_accuracy: 0.7937\n",
      "\n",
      "Epoch 00075: val_loss did not improve from 0.85180\n",
      "Epoch 76/100\n",
      "890/890 [==============================] - 1s 1ms/step - loss: 0.4921 - accuracy: 0.8438 - val_loss: 0.8728 - val_accuracy: 0.7758\n",
      "\n",
      "Epoch 00076: val_loss did not improve from 0.85180\n",
      "Epoch 77/100\n",
      "890/890 [==============================] - 1s 1ms/step - loss: 0.4688 - accuracy: 0.8382 - val_loss: 0.9923 - val_accuracy: 0.7892\n",
      "\n",
      "Epoch 00077: val_loss did not improve from 0.85180\n",
      "Epoch 78/100\n",
      "890/890 [==============================] - 1s 1ms/step - loss: 0.4946 - accuracy: 0.8371 - val_loss: 0.9841 - val_accuracy: 0.7982\n",
      "\n",
      "Epoch 00078: val_loss did not improve from 0.85180\n",
      "Epoch 79/100\n",
      "890/890 [==============================] - 1s 1ms/step - loss: 0.4336 - accuracy: 0.8584 - val_loss: 1.0097 - val_accuracy: 0.7937\n",
      "\n",
      "Epoch 00079: val_loss did not improve from 0.85180\n",
      "Epoch 80/100\n",
      "890/890 [==============================] - 1s 1ms/step - loss: 0.4476 - accuracy: 0.8562 - val_loss: 1.0394 - val_accuracy: 0.7937\n",
      "\n",
      "Epoch 00080: val_loss did not improve from 0.85180\n",
      "Epoch 81/100\n",
      "890/890 [==============================] - 1s 1ms/step - loss: 0.4073 - accuracy: 0.8640 - val_loss: 1.0829 - val_accuracy: 0.7803\n",
      "\n",
      "Epoch 00081: val_loss did not improve from 0.85180\n",
      "Epoch 82/100\n",
      "890/890 [==============================] - 1s 1ms/step - loss: 0.4175 - accuracy: 0.8528 - val_loss: 1.0447 - val_accuracy: 0.7848\n",
      "\n",
      "Epoch 00082: val_loss did not improve from 0.85180\n",
      "Epoch 83/100\n",
      "890/890 [==============================] - 1s 1ms/step - loss: 0.4043 - accuracy: 0.8528 - val_loss: 1.1832 - val_accuracy: 0.7578\n",
      "\n",
      "Epoch 00083: val_loss did not improve from 0.85180\n",
      "Epoch 84/100\n",
      "890/890 [==============================] - 1s 1ms/step - loss: 0.4408 - accuracy: 0.8427 - val_loss: 0.9977 - val_accuracy: 0.7668\n",
      "\n",
      "Epoch 00084: val_loss did not improve from 0.85180\n",
      "Epoch 85/100\n",
      "890/890 [==============================] - 1s 1ms/step - loss: 0.5343 - accuracy: 0.8427 - val_loss: 1.2640 - val_accuracy: 0.7489\n",
      "\n",
      "Epoch 00085: val_loss did not improve from 0.85180\n",
      "Epoch 86/100\n",
      "890/890 [==============================] - 1s 1ms/step - loss: 0.4888 - accuracy: 0.8483 - val_loss: 0.9789 - val_accuracy: 0.8161\n",
      "\n",
      "Epoch 00086: val_loss did not improve from 0.85180\n",
      "Epoch 87/100\n",
      "890/890 [==============================] - 1s 1ms/step - loss: 0.4173 - accuracy: 0.8685 - val_loss: 1.0174 - val_accuracy: 0.7892\n",
      "\n",
      "Epoch 00087: val_loss did not improve from 0.85180\n",
      "Epoch 88/100\n",
      "890/890 [==============================] - 1s 1ms/step - loss: 0.3774 - accuracy: 0.8764 - val_loss: 1.1239 - val_accuracy: 0.7937\n",
      "\n",
      "Epoch 00088: val_loss did not improve from 0.85180\n",
      "Epoch 89/100\n",
      "890/890 [==============================] - 1s 1ms/step - loss: 0.4033 - accuracy: 0.8629 - val_loss: 1.3605 - val_accuracy: 0.7534\n",
      "\n",
      "Epoch 00089: val_loss did not improve from 0.85180\n",
      "Epoch 90/100\n",
      "890/890 [==============================] - 1s 1ms/step - loss: 0.7917 - accuracy: 0.7921 - val_loss: 1.0530 - val_accuracy: 0.7758\n",
      "\n",
      "Epoch 00090: val_loss did not improve from 0.85180\n",
      "Epoch 91/100\n",
      "890/890 [==============================] - 1s 1ms/step - loss: 0.5793 - accuracy: 0.8326 - val_loss: 1.1299 - val_accuracy: 0.7623\n",
      "\n",
      "Epoch 00091: val_loss did not improve from 0.85180\n",
      "Epoch 92/100\n",
      "890/890 [==============================] - 1s 1ms/step - loss: 0.4542 - accuracy: 0.8449 - val_loss: 1.1983 - val_accuracy: 0.7803\n",
      "\n",
      "Epoch 00092: val_loss did not improve from 0.85180\n",
      "Epoch 93/100\n",
      "890/890 [==============================] - 1s 1ms/step - loss: 0.4145 - accuracy: 0.8607 - val_loss: 0.9467 - val_accuracy: 0.7848\n",
      "\n",
      "Epoch 00093: val_loss did not improve from 0.85180\n",
      "Epoch 94/100\n",
      "890/890 [==============================] - 1s 1ms/step - loss: 0.3987 - accuracy: 0.8697 - val_loss: 1.0954 - val_accuracy: 0.7892\n",
      "\n",
      "Epoch 00094: val_loss did not improve from 0.85180\n",
      "Epoch 95/100\n",
      "890/890 [==============================] - 1s 1ms/step - loss: 0.3879 - accuracy: 0.8775 - val_loss: 1.2800 - val_accuracy: 0.7578\n",
      "\n",
      "Epoch 00095: val_loss did not improve from 0.85180\n",
      "Epoch 96/100\n",
      "890/890 [==============================] - 1s 1ms/step - loss: 0.3961 - accuracy: 0.8697 - val_loss: 1.3207 - val_accuracy: 0.7758\n",
      "\n",
      "Epoch 00096: val_loss did not improve from 0.85180\n",
      "Epoch 97/100\n",
      "890/890 [==============================] - 1s 1ms/step - loss: 0.3978 - accuracy: 0.8652 - val_loss: 1.0534 - val_accuracy: 0.7848\n",
      "\n",
      "Epoch 00097: val_loss did not improve from 0.85180\n",
      "Epoch 98/100\n",
      "890/890 [==============================] - 1s 1ms/step - loss: 0.3934 - accuracy: 0.8730 - val_loss: 1.0776 - val_accuracy: 0.8027\n",
      "\n",
      "Epoch 00098: val_loss did not improve from 0.85180\n",
      "Epoch 99/100\n",
      "890/890 [==============================] - 1s 1ms/step - loss: 0.3757 - accuracy: 0.8809 - val_loss: 1.2875 - val_accuracy: 0.7892\n",
      "\n",
      "Epoch 00099: val_loss did not improve from 0.85180\n",
      "Epoch 100/100\n",
      "890/890 [==============================] - 1s 1ms/step - loss: 0.3660 - accuracy: 0.8787 - val_loss: 1.1315 - val_accuracy: 0.7803\n",
      "\n",
      "Epoch 00100: val_loss did not improve from 0.85180\n"
     ]
    }
   ],
   "source": [
    "filename = 'model.h5'\n",
    "checkpoint = ModelCheckpoint(filename, monitor='val_loss', verbose=1, save_best_only=True, mode='min')\n",
    "\n",
    "hist = model.fit(train_X, train_Y, epochs = 100, batch_size = 32, validation_data = (val_X, val_Y), callbacks = [checkpoint])"
   ]
  },
  {
   "cell_type": "code",
   "execution_count": 33,
   "metadata": {
    "colab": {},
    "colab_type": "code",
    "id": "YjXKos8ocXvw"
   },
   "outputs": [],
   "source": [
    " model = load_model(\"model.h5\")"
   ]
  },
  {
   "cell_type": "code",
   "execution_count": 34,
   "metadata": {
    "colab": {},
    "colab_type": "code",
    "id": "qSTEzrlzcuya"
   },
   "outputs": [],
   "source": [
    "def predictions(text):\n",
    "  clean = re.sub(r'[^ a-z A-Z 0-9]', \" \", text)\n",
    "  test_word = word_tokenize(clean)\n",
    "  test_word = [w.lower() for w in test_word]\n",
    "  test_ls = word_tokenizer.texts_to_sequences(test_word)\n",
    "  print(test_word)\n",
    "  #Check for unknown words\n",
    "  if [] in test_ls:\n",
    "    test_ls = list(filter(None, test_ls))\n",
    "    \n",
    "  test_ls = np.array(test_ls).reshape(1, len(test_ls))\n",
    " \n",
    "  x = padding_doc(test_ls, max_length)\n",
    "  \n",
    "  pred = model.predict_proba(x)\n",
    "  \n",
    "  \n",
    "  return pred\n",
    "\n",
    "\n",
    "  "
   ]
  },
  {
   "cell_type": "code",
   "execution_count": 35,
   "metadata": {
    "colab": {},
    "colab_type": "code",
    "id": "P1ddofshmdzK"
   },
   "outputs": [],
   "source": [
    "def get_final_output(pred, classes):\n",
    "  predictions = pred[0]\n",
    " \n",
    "  classes = np.array(classes)\n",
    "  ids = np.argsort(-predictions)\n",
    "  classes = classes[ids]\n",
    "  predictions = -np.sort(-predictions)\n",
    " \n",
    "  for i in range(pred.shape[1]):\n",
    "    print(\"%s has confidence = %s\" % (classes[i], (predictions[i])))\n",
    "\n"
   ]
  },
  {
   "cell_type": "code",
   "execution_count": 36,
   "metadata": {
    "colab": {
     "base_uri": "https://localhost:8080/",
     "height": 391
    },
    "colab_type": "code",
    "id": "23VpGuihMdEU",
    "outputId": "cd36c932-0fb0-4166-92ae-546a7676e645"
   },
   "outputs": [
    {
     "name": "stdout",
     "output_type": "stream",
     "text": [
      "['can', 'you', 'help', 'me']\n",
      "commonQ.bot has confidence = 0.1766537\n",
      "faq.bad_service has confidence = 0.11811465\n",
      "commonQ.query has confidence = 0.09906488\n",
      "commonQ.assist has confidence = 0.097041965\n",
      "faq.biz_new has confidence = 0.077170715\n",
      "contact.contact has confidence = 0.07646705\n",
      "commonQ.not_giving has confidence = 0.06568884\n",
      "commonQ.name has confidence = 0.053662248\n",
      "commonQ.how has confidence = 0.035175517\n",
      "faq.aadhaar_missing has confidence = 0.033894695\n",
      "commonQ.just_details has confidence = 0.030430667\n",
      "commonQ.wait has confidence = 0.030384624\n",
      "faq.biz_simpler has confidence = 0.029610055\n",
      "faq.banking_option_missing has confidence = 0.020859007\n",
      "faq.borrow_limit has confidence = 0.017620571\n",
      "faq.apply_register has confidence = 0.011174968\n",
      "faq.approval_time has confidence = 0.011127081\n",
      "faq.borrow_use has confidence = 0.0055858484\n",
      "faq.biz_category_missing has confidence = 0.0046971096\n",
      "faq.application_process has confidence = 0.004112841\n",
      "faq.address_proof has confidence = 0.0014629527\n"
     ]
    }
   ],
   "source": [
    "text = \"Can you help me?\"\n",
    "pred = predictions(text)\n",
    "get_final_output(pred, unique_intent)"
   ]
  },
  {
   "cell_type": "code",
   "execution_count": 0,
   "metadata": {
    "colab": {},
    "colab_type": "code",
    "id": "bKUBDT36IHKO"
   },
   "outputs": [],
   "source": []
  }
 ],
 "metadata": {
  "accelerator": "TPU",
  "colab": {
   "collapsed_sections": [],
   "include_colab_link": true,
   "name": "Intent_classification_final.ipynb",
   "provenance": [],
   "version": "0.3.2"
  },
  "kernelspec": {
   "display_name": "Python 3",
   "language": "python",
   "name": "python3"
  },
  "language_info": {
   "codemirror_mode": {
    "name": "ipython",
    "version": 3
   },
   "file_extension": ".py",
   "mimetype": "text/x-python",
   "name": "python",
   "nbconvert_exporter": "python",
   "pygments_lexer": "ipython3",
   "version": "3.7.4"
  }
 },
 "nbformat": 4,
 "nbformat_minor": 1
}
