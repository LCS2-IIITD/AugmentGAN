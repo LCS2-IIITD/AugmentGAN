{
 "cells": [
  {
   "cell_type": "code",
   "execution_count": 21,
   "metadata": {},
   "outputs": [],
   "source": [
    "import pandas as pd\n",
    "import ast\n",
    "import pickle\n",
    "import json"
   ]
  },
  {
   "cell_type": "code",
   "execution_count": 60,
   "metadata": {},
   "outputs": [
    {
     "name": "stdout",
     "output_type": "stream",
     "text": [
      "   Label                                            Comment\n",
      "0      1  The Rock is destined to be the 21st Century 's...\n",
      "1      1  The gorgeously elaborate continuation of `` Th...\n",
      "2      1  Singer and composer Bryan Adams contributes a ...\n",
      "3      1               Yet the act is still charming here .\n",
      "4      1  Whether or not you 're enlightened by any of D...\n"
     ]
    }
   ],
   "source": [
    "df = pd.read_csv(\"./data/train.csv\", encoding = \"ISO-8859-1\")\n",
    "print(df.head())"
   ]
  },
  {
   "cell_type": "code",
   "execution_count": 61,
   "metadata": {},
   "outputs": [],
   "source": [
    "label=df['Label'].tolist()\n",
    "comment = df['Comment'].tolist()"
   ]
  },
  {
   "cell_type": "code",
   "execution_count": 33,
   "metadata": {},
   "outputs": [],
   "source": [
    "\n",
    "dbfile = open('valid_label_sst.pickle', 'ab') \n",
    "\n",
    "# source, destination \n",
    "pickle.dump(label, dbfile)                      \n",
    "dbfile.close() \n",
    "dbfile = open('valid_data_sst.pickle', 'ab') \n",
    "\n",
    "# source, destination \n",
    "pickle.dump(comment, dbfile)                      \n",
    "dbfile.close()\n"
   ]
  },
  {
   "cell_type": "code",
   "execution_count": 62,
   "metadata": {},
   "outputs": [],
   "source": [
    "trainIMDB_gan=\"./sst_train.json\""
   ]
  },
  {
   "cell_type": "code",
   "execution_count": 63,
   "metadata": {},
   "outputs": [],
   "source": [
    "#### For creating json file for augmented imdb\n",
    "def writeFile(path, content):\n",
    "    with open(path, \"a\") as file: \n",
    "        file.write(\"{}\\n\".format(content))\n",
    "def convert(data):\n",
    "    if data==0:\n",
    "        return \"neg\"\n",
    "    return \"pos\""
   ]
  },
  {
   "cell_type": "code",
   "execution_count": 64,
   "metadata": {},
   "outputs": [],
   "source": [
    "# for SST train data \n",
    "#For augment train data \n",
    "for i in range(len(comment)):\n",
    "    json_content = {\"text\": comment[i], \"label\": str(label[i])}\n",
    "    str_content = json.dumps(json_content)\n",
    "    writeFile(trainIMDB_gan, str_content) "
   ]
  },
  {
   "cell_type": "code",
   "execution_count": null,
   "metadata": {},
   "outputs": [],
   "source": [
    "f = open(\"sst_valid.txt\",\"w\")\n",
    "for i in comment:\n",
    "    f.write(i)\n",
    "    f.write(\"\\n\")"
   ]
  },
  {
   "cell_type": "code",
   "execution_count": 4,
   "metadata": {},
   "outputs": [],
   "source": [
    "def convert(take):\n",
    "    if take==\"pos\":\n",
    "        return 1\n",
    "    return 0"
   ]
  },
  {
   "cell_type": "code",
   "execution_count": 5,
   "metadata": {},
   "outputs": [],
   "source": [
    "\n",
    "f = open(\"./data/imdb_train_orig.json\",\"r\")\n",
    "g = f.readlines()\n",
    "train_data=[]\n",
    "train_label=[]\n",
    "for i in g:\n",
    "    train_data.append(ast.literal_eval(i.split('\\n')[0])['text'])\n",
    "    train_label.append(convert(ast.literal_eval(i.split('\\n')[0])['label']))"
   ]
  },
  {
   "cell_type": "code",
   "execution_count": 8,
   "metadata": {},
   "outputs": [],
   "source": [
    "dbfile = open('train_label_imdb.pickle', 'ab') \n",
    "\n",
    "# source, destination \n",
    "pickle.dump(train_label, dbfile)                      \n",
    "dbfile.close() \n",
    "dbfile = open('train_data_imdb.pickle', 'ab') \n",
    "\n",
    "# source, destination \n",
    "pickle.dump(train_data, dbfile)                      \n",
    "dbfile.close()\n"
   ]
  },
  {
   "cell_type": "code",
   "execution_count": 15,
   "metadata": {},
   "outputs": [],
   "source": [
    "f = open(\"imdb_train.txt\",\"w\")\n",
    "for i in train_data:\n",
    "    f.write(i)\n",
    "    f.write(\"\\n\")"
   ]
  },
  {
   "cell_type": "code",
   "execution_count": 27,
   "metadata": {},
   "outputs": [
    {
     "data": {
      "text/plain": [
       "25000"
      ]
     },
     "execution_count": 27,
     "metadata": {},
     "output_type": "execute_result"
    }
   ],
   "source": [
    "a = pickle.load(open(\"test_label_imdb.pickle\",\"rb\"))"
   ]
  },
  {
   "cell_type": "code",
   "execution_count": 9,
   "metadata": {},
   "outputs": [],
   "source": [
    "f = open(\"./data/sst_origdev_cleaned.json\",\"r\")\n",
    "g = f.readlines()\n",
    "train_data=[]\n",
    "train_label=[]\n",
    "for i in g:\n",
    "    train_data.append(ast.literal_eval(i.split('\\n')[0])['text'])\n",
    "    train_label.append((ast.literal_eval(i.split('\\n')[0])['label']))"
   ]
  },
  {
   "cell_type": "code",
   "execution_count": null,
   "metadata": {},
   "outputs": [],
   "source": []
  },
  {
   "cell_type": "code",
   "execution_count": 11,
   "metadata": {},
   "outputs": [],
   "source": [
    "dbfile = open('valid_label_sst.pickle', 'ab') \n",
    "\n",
    "# source, destination \n",
    "pickle.dump(train_label, dbfile)                      \n",
    "dbfile.close() \n",
    "dbfile = open('valid_data_sst.pickle', 'ab') \n",
    "\n",
    "# source, destination \n",
    "pickle.dump(train_data, dbfile)                      \n",
    "dbfile.close()\n"
   ]
  },
  {
   "cell_type": "code",
   "execution_count": 37,
   "metadata": {},
   "outputs": [],
   "source": [
    "f = open(\"sst_valid.txt\",\"w\")\n",
    "for i in train_data:\n",
    "    f = open(\"sst_valid.txt\",\"a\")\n",
    "    f.write(i)\n",
    "    f.write(\"\\n\")\n",
    "    f.close()"
   ]
  },
  {
   "cell_type": "code",
   "execution_count": 7,
   "metadata": {},
   "outputs": [],
   "source": [
    "f = open(\"./data/imdb_test.json\",\"r\")\n",
    "g = f.readlines()\n",
    "train_data=[]\n",
    "train_label=[]\n",
    "for i in g:\n",
    "    train_data.append(ast.literal_eval(i.split('\\n')[0])['text'])\n",
    "    train_label.append(convert(ast.literal_eval(i.split('\\n')[0])['label']))"
   ]
  },
  {
   "cell_type": "code",
   "execution_count": 29,
   "metadata": {},
   "outputs": [],
   "source": [
    "dbfile = open('test_label_imdb.pickle', 'ab') \n",
    "\n",
    "# source, destination \n",
    "pickle.dump(train_label, dbfile)                      \n",
    "dbfile.close() \n",
    "dbfile = open('test_data_imdb.pickle', 'ab') \n",
    "\n",
    "# source, destination \n",
    "pickle.dump(train_data, dbfile)                      \n",
    "dbfile.close()\n"
   ]
  },
  {
   "cell_type": "code",
   "execution_count": 34,
   "metadata": {},
   "outputs": [],
   "source": [
    "f = open(\"imdb_test.txt\",\"w\")\n",
    "for i in train_data:\n",
    "    f = open(\"imdb_test.txt\",\"a\")\n",
    "    f.write(i)\n",
    "    f.write(\"\\n\")\n",
    "    f.close()"
   ]
  }
 ],
 "metadata": {
  "kernelspec": {
   "display_name": "Python 3",
   "language": "python",
   "name": "python3"
  },
  "language_info": {
   "codemirror_mode": {
    "name": "ipython",
    "version": 3
   },
   "file_extension": ".py",
   "mimetype": "text/x-python",
   "name": "python",
   "nbconvert_exporter": "python",
   "pygments_lexer": "ipython3",
   "version": "3.7.4"
  }
 },
 "nbformat": 4,
 "nbformat_minor": 2
}
