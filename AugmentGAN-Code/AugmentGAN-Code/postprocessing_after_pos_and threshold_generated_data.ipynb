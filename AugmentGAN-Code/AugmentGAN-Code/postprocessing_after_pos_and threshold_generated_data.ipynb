{
 "cells": [
  {
   "cell_type": "code",
   "execution_count": 1,
   "metadata": {},
   "outputs": [],
   "source": [
    "import os\n",
    "import numpy as np\n",
    "import pickle\n",
    "import json"
   ]
  },
  {
   "cell_type": "code",
   "execution_count": 11,
   "metadata": {},
   "outputs": [],
   "source": [
    "list1 = os.listdir('threshold_data')"
   ]
  },
  {
   "cell_type": "code",
   "execution_count": 12,
   "metadata": {},
   "outputs": [],
   "source": [
    "f=open(\"augmented_data_threshold.csv\",\"w\")\n",
    "\n",
    "#Combining mutiple files into one file\n",
    "for i in list1:\n",
    "    g=open(\"threshold_data/\"+str(i),\"r\")\n",
    "    f=open(\"augmented_data_threshold.csv\",\"a\")\n",
    "    f.write(g.read())\n",
    "    f.close()"
   ]
  },
  {
   "cell_type": "code",
   "execution_count": 13,
   "metadata": {},
   "outputs": [],
   "source": [
    "f = open(\"augmented_data_threshold.csv\",\"r\")\n",
    "g = f.readlines()"
   ]
  },
  {
   "cell_type": "code",
   "execution_count": 14,
   "metadata": {},
   "outputs": [],
   "source": [
    "train_data=[]\n",
    "train_label=[]\n",
    "for i  in range(len(g)):\n",
    "    h = g[i].split(\"\\t\")\n",
    "    train_data.append(h[1])\n",
    "    train_label.append(int(h[0]))\n",
    "    "
   ]
  },
  {
   "cell_type": "code",
   "execution_count": null,
   "metadata": {},
   "outputs": [],
   "source": []
  },
  {
   "cell_type": "code",
   "execution_count": 15,
   "metadata": {},
   "outputs": [],
   "source": [
    "f =open(\"sst_train.txt\",\"r\")"
   ]
  },
  {
   "cell_type": "code",
   "execution_count": 16,
   "metadata": {},
   "outputs": [],
   "source": [
    "g = f.readlines()"
   ]
  },
  {
   "cell_type": "code",
   "execution_count": 17,
   "metadata": {},
   "outputs": [],
   "source": [
    "train_sst = pickle.load(open(\"train_label_sst.pickle\",\"rb\"))"
   ]
  },
  {
   "cell_type": "code",
   "execution_count": 18,
   "metadata": {},
   "outputs": [],
   "source": [
    "train_data = train_data + g"
   ]
  },
  {
   "cell_type": "code",
   "execution_count": 19,
   "metadata": {},
   "outputs": [],
   "source": [
    "train_label = train_label + train_sst"
   ]
  },
  {
   "cell_type": "code",
   "execution_count": 20,
   "metadata": {},
   "outputs": [],
   "source": [
    "#### For creating json file for augmented imdb\n",
    "def writeFile(path, content):\n",
    "    with open(path, \"a\") as file: \n",
    "        file.write(\"{}\\n\".format(content))\n",
    "def convert(data):\n",
    "    if data==0:\n",
    "        return \"neg\"\n",
    "    return \"pos\""
   ]
  },
  {
   "cell_type": "code",
   "execution_count": 21,
   "metadata": {},
   "outputs": [],
   "source": [
    "trainIMDB_gan = \"/home/arjun18023/Suraj_thesis/Internship_Stuff/sst_threshold.json\""
   ]
  },
  {
   "cell_type": "code",
   "execution_count": 22,
   "metadata": {},
   "outputs": [],
   "source": [
    "# for SST train data \n",
    "#For augment train data \n",
    "for i in range(len(train_data)):\n",
    "    json_content = {\"text\": train_data[i], \"label\": (train_label[i])}\n",
    "    str_content = json.dumps(json_content)\n",
    "    writeFile(trainIMDB_gan, str_content) "
   ]
  },
  {
   "cell_type": "code",
   "execution_count": 8,
   "metadata": {},
   "outputs": [],
   "source": [
    "list1 = os.listdir('pos_data')"
   ]
  },
  {
   "cell_type": "code",
   "execution_count": 9,
   "metadata": {},
   "outputs": [],
   "source": [
    "f=open(\"augmented_data_pos.csv\",\"w\")\n",
    "\n",
    "#Combining mutiple files into one file\n",
    "for i in list1:\n",
    "    g=open(\"pos_data/\"+str(i),\"r\")\n",
    "    f=open(\"augmented_data_pos.csv\",\"a\")\n",
    "    f.write(g.read())\n",
    "    f.close()"
   ]
  }
 ],
 "metadata": {
  "kernelspec": {
   "display_name": "Python 3",
   "language": "python",
   "name": "python3"
  },
  "language_info": {
   "codemirror_mode": {
    "name": "ipython",
    "version": 3
   },
   "file_extension": ".py",
   "mimetype": "text/x-python",
   "name": "python",
   "nbconvert_exporter": "python",
   "pygments_lexer": "ipython3",
   "version": "3.7.4"
  }
 },
 "nbformat": 4,
 "nbformat_minor": 2
}
